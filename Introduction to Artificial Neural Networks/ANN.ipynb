{
 "cells": [
  {
   "attachments": {},
   "cell_type": "markdown",
   "id": "956e1179",
   "metadata": {},
   "source": [
    "# **1. Giới thiệu về mạng neural nhân tạo**\n",
    "\n",
    "Mạng nơ-ron nhân tạo (Neural Network - NN) là một mô hình lập trình rất đẹp lấy cảm hứng từ các tế bào thần kinh sinh học. Chúng rất linh hoạt, mạnh mẽ và có thể mở rộng, khiến chúng trở nên lý tưởng để giải quyết các tác vụ Machine Learning lớn và rất phức tạp, chẳng hạn như phân loại hàng tỷ hình ảnh (ví dụ: Google Images), cung cấp năng lượng cho các dịch vụ nhận dạng giọng nói (ví dụ: Siri của Apple), đề xuất các video hay nhất để xem cho hàng trăm triệu người dùng mỗi ngày (ví dụ: YouTube) hoặc học cách đánh bại nhà vô địch thế giới trong trò chơi cờ vây bằng cách kiểm tra hàng triệu trò chơi trong quá khứ và sau đó chơi với chính nó (AlphaGo của DeepMind).\n",
    "\n",
    "# **2. Các loại mạng neural nhân tạo**\n",
    "\n",
    "Mạng thần kinh nhân tạo có thể được phân chia thành nhiều loại khác nhau, sử dụng cho những mục đích khác nhau.\n",
    "\n",
    "## **a) Mạng Perceptron**\n",
    "\n",
    "Perceptron là một trong những kiến trúc ANN đơn giản nhất, được phát minh vào năm 1957 bởi Frank Rosenblatt. Nó dựa trên một mạng neural được gọi là đơn vị ngưỡng tuyến tính (LTU): đầu vào và đầu ra là các số, các đầu vào được điều phối tầm ảnh hưởng bởi các trọng số tương ứng. LTU sẽ tính tổng trọng số của các đầu vào \\$z = w\\_{1}x\\_{1} + w\\_{2}x\\_{2} + ... + w\\_{n}x\\_{n} = x\\^{T}w\\$, sau đó áp dụng hàm step cho tổng đó và xuất ra kết quả \\$h\\_{w}(x) = step(z)\\$\n",
    "\n",
    "![Threshold logic unit](image/mlst_1004.png)\n",
    "\n",
    "Hàm step phổ biến nhất được dùng trong Perceptron là hàm Heaviside. Đôi khi, hàm xác định dấu được sử dụng để thay thế.\n",
    "$$\n",
    "heaviside(z) = \\left\\{\\begin{matrix}\n",
    "0 & if & z < 0\\\\ \n",
    "1 & if & z \\geq 0 & \n",
    "\\end{matrix}\\right.\n",
    "sgn(z) = \\left\\{\\begin{matrix}\n",
    "-1 & if & z<0 \\\\ \n",
    " 0& if &z=0 \\\\ \n",
    " 1& if &z>0 \n",
    "\\end{matrix}\\right.\n",
    "$$\n",
    "\n",
    "Một LTU duy nhất có thể được sử dụng để phân loại nhị phân tuyến tính đơn giản. Perceptron chỉ đơn giản bao gồm một lớp TLU duy nhất với mỗi tế bào thần kinh được kết nối với tất cả các đầu vào. \n",
    "\n",
    "Thuật toán đào tạo Perceptron được lấy cảm hứng từ quy tắc Hebb: trọng số kết nối giữa hai tế bào thần kinh được tăng lên bất kì khi nào chúng có cùng đầu ra. Perceptron được đào tạo bằng cách sử dụng một biến thể của quy tắc này có tính đến lỗi do mạng gây ra; Nó củng cố các kết nối giúp giảm sai số. Cụ thể hơn, Perceptron được cung cấp một trường hợp đào tạo tại một thời điểm và đối với mỗi trường hợp, nó đưa ra dự đoán của nó. Đối với mỗi tế bào thần kinh cho ra một dự đoán sai, nó củng cố trọng số kết nối từ các đầu vào sẽ góp phần vào dự đoán chính xác. Quy luật đó được thể hiện qua phương trình sau:\n",
    "$$\n",
    "w_{i, j}^{(next step)}=w_{i,j}+\\eta (y_{j}-\\widehat{y_{j}})x_{i}\n",
    "$$\n",
    "\n",
    "Ranh giới quyết định đầu ra của mỗi neural là tuyến tính, vì vậy Perceptron không có khả năng học các mẫu phức tạp (ví dụ như vấn đề phân loại $XOR$). Tuy nhiên, ta có thể loại bỏ hạn chế đó bằng cách xếp chồng nhiều Perceptron tạo thành Multi-Layer Perceptron có thể giải quyết được nhiều vấn đề phức tạp hơn.\n",
    "\n",
    "![XOR classification problem and an MLP that solves it](image/mlst_1006.png)\n",
    "\n",
    "Scikit-Learn cung cấp một lớp Perceptron thực hiện một TLU duy nhất. Ví dụ, trên tập dữ liệu Iris"
   ]
  },
  {
   "cell_type": "code",
   "execution_count": 1,
   "id": "884e3cd9",
   "metadata": {},
   "outputs": [
    {
     "name": "stderr",
     "output_type": "stream",
     "text": [
      "C:\\Users\\imlda\\AppData\\Local\\Temp\\ipykernel_4896\\1800480898.py:6: DeprecationWarning: `np.int` is a deprecated alias for the builtin `int`. To silence this warning, use `int` by itself. Doing this will not modify any behavior and is safe. When replacing `np.int`, you may wish to use e.g. `np.int64` or `np.int32` to specify the precision. If you wish to review your current use, check the release note link for additional information.\n",
      "Deprecated in NumPy 1.20; for more details and guidance: https://numpy.org/devdocs/release/1.20.0-notes.html#deprecations\n",
      "  y = (iris.target == 0).astype(np.int)  # Iris Setosa?\n"
     ]
    },
    {
     "data": {
      "text/html": [
       "<style>#sk-container-id-1 {color: black;background-color: white;}#sk-container-id-1 pre{padding: 0;}#sk-container-id-1 div.sk-toggleable {background-color: white;}#sk-container-id-1 label.sk-toggleable__label {cursor: pointer;display: block;width: 100%;margin-bottom: 0;padding: 0.3em;box-sizing: border-box;text-align: center;}#sk-container-id-1 label.sk-toggleable__label-arrow:before {content: \"▸\";float: left;margin-right: 0.25em;color: #696969;}#sk-container-id-1 label.sk-toggleable__label-arrow:hover:before {color: black;}#sk-container-id-1 div.sk-estimator:hover label.sk-toggleable__label-arrow:before {color: black;}#sk-container-id-1 div.sk-toggleable__content {max-height: 0;max-width: 0;overflow: hidden;text-align: left;background-color: #f0f8ff;}#sk-container-id-1 div.sk-toggleable__content pre {margin: 0.2em;color: black;border-radius: 0.25em;background-color: #f0f8ff;}#sk-container-id-1 input.sk-toggleable__control:checked~div.sk-toggleable__content {max-height: 200px;max-width: 100%;overflow: auto;}#sk-container-id-1 input.sk-toggleable__control:checked~label.sk-toggleable__label-arrow:before {content: \"▾\";}#sk-container-id-1 div.sk-estimator input.sk-toggleable__control:checked~label.sk-toggleable__label {background-color: #d4ebff;}#sk-container-id-1 div.sk-label input.sk-toggleable__control:checked~label.sk-toggleable__label {background-color: #d4ebff;}#sk-container-id-1 input.sk-hidden--visually {border: 0;clip: rect(1px 1px 1px 1px);clip: rect(1px, 1px, 1px, 1px);height: 1px;margin: -1px;overflow: hidden;padding: 0;position: absolute;width: 1px;}#sk-container-id-1 div.sk-estimator {font-family: monospace;background-color: #f0f8ff;border: 1px dotted black;border-radius: 0.25em;box-sizing: border-box;margin-bottom: 0.5em;}#sk-container-id-1 div.sk-estimator:hover {background-color: #d4ebff;}#sk-container-id-1 div.sk-parallel-item::after {content: \"\";width: 100%;border-bottom: 1px solid gray;flex-grow: 1;}#sk-container-id-1 div.sk-label:hover label.sk-toggleable__label {background-color: #d4ebff;}#sk-container-id-1 div.sk-serial::before {content: \"\";position: absolute;border-left: 1px solid gray;box-sizing: border-box;top: 0;bottom: 0;left: 50%;z-index: 0;}#sk-container-id-1 div.sk-serial {display: flex;flex-direction: column;align-items: center;background-color: white;padding-right: 0.2em;padding-left: 0.2em;position: relative;}#sk-container-id-1 div.sk-item {position: relative;z-index: 1;}#sk-container-id-1 div.sk-parallel {display: flex;align-items: stretch;justify-content: center;background-color: white;position: relative;}#sk-container-id-1 div.sk-item::before, #sk-container-id-1 div.sk-parallel-item::before {content: \"\";position: absolute;border-left: 1px solid gray;box-sizing: border-box;top: 0;bottom: 0;left: 50%;z-index: -1;}#sk-container-id-1 div.sk-parallel-item {display: flex;flex-direction: column;z-index: 1;position: relative;background-color: white;}#sk-container-id-1 div.sk-parallel-item:first-child::after {align-self: flex-end;width: 50%;}#sk-container-id-1 div.sk-parallel-item:last-child::after {align-self: flex-start;width: 50%;}#sk-container-id-1 div.sk-parallel-item:only-child::after {width: 0;}#sk-container-id-1 div.sk-dashed-wrapped {border: 1px dashed gray;margin: 0 0.4em 0.5em 0.4em;box-sizing: border-box;padding-bottom: 0.4em;background-color: white;}#sk-container-id-1 div.sk-label label {font-family: monospace;font-weight: bold;display: inline-block;line-height: 1.2em;}#sk-container-id-1 div.sk-label-container {text-align: center;}#sk-container-id-1 div.sk-container {/* jupyter's `normalize.less` sets `[hidden] { display: none; }` but bootstrap.min.css set `[hidden] { display: none !important; }` so we also need the `!important` here to be able to override the default hidden behavior on the sphinx rendered scikit-learn.org. See: https://github.com/scikit-learn/scikit-learn/issues/21755 */display: inline-block !important;position: relative;}#sk-container-id-1 div.sk-text-repr-fallback {display: none;}</style><div id=\"sk-container-id-1\" class=\"sk-top-container\"><div class=\"sk-text-repr-fallback\"><pre>Perceptron()</pre><b>In a Jupyter environment, please rerun this cell to show the HTML representation or trust the notebook. <br />On GitHub, the HTML representation is unable to render, please try loading this page with nbviewer.org.</b></div><div class=\"sk-container\" hidden><div class=\"sk-item\"><div class=\"sk-estimator sk-toggleable\"><input class=\"sk-toggleable__control sk-hidden--visually\" id=\"sk-estimator-id-1\" type=\"checkbox\" checked><label for=\"sk-estimator-id-1\" class=\"sk-toggleable__label sk-toggleable__label-arrow\">Perceptron</label><div class=\"sk-toggleable__content\"><pre>Perceptron()</pre></div></div></div></div></div>"
      ],
      "text/plain": [
       "Perceptron()"
      ]
     },
     "execution_count": 1,
     "metadata": {},
     "output_type": "execute_result"
    }
   ],
   "source": [
    "import numpy as np\n",
    "from sklearn.datasets import load_iris\n",
    "from sklearn.linear_model import Perceptron\n",
    "iris = load_iris()\n",
    "X = iris.data[:, (2, 3)]  # petal length, petal width\n",
    "y = (iris.target == 0).astype(np.int)  # Iris Setosa?\n",
    "per_clf = Perceptron()\n",
    "per_clf.fit(X, y)\n"
   ]
  },
  {
   "cell_type": "code",
   "execution_count": 2,
   "id": "599edd85",
   "metadata": {},
   "outputs": [
    {
     "data": {
      "text/plain": [
       "array([0])"
      ]
     },
     "execution_count": 2,
     "metadata": {},
     "output_type": "execute_result"
    }
   ],
   "source": [
    "per_clf.predict([[2, 0.5]])\n"
   ]
  },
  {
   "attachments": {},
   "cell_type": "markdown",
   "id": "b2dd6087",
   "metadata": {},
   "source": [
    "## **b) Mạng neural truyền thẳng nhiều lớp (MLP) và thuật toán lan truyền ngược (Backpropagation)**\n",
    "\n",
    "MLP bao gồm một lớp đầu vào, một hoặc nhiều lớp LTU (lớp ẩn) và lớp LTU cuối cùng được gọi là lớp đầu ra. Khi một ANN có hai hoặc nhiều lớp ẩn thì nó được gọi là Deep neural networks.\n",
    "\n",
    "![Multi-Layer Perceptron](image/mlst_1007.png)\n",
    "\n",
    "Các nhà nghiên cứu đã cố gắng tìm các để đào tạo MLP trong nhiều năm nhưng không thành công. Nhưng vào năm 1986 David Rumelhart, Geoffrey Hinton và Ronald William đã giới thiệu về thuật toán lan truyền ngược. Thuật toán này được sử dụng để tối ưu hàm mất mát bằng cách điều chỉnh các trọng số của mạng neural. Quá trình huấn luyện bằng backpropagation bao gồm hai giai đoạn: forward pass và backward pass. Forward pass tính toán đầu ra của mạng neural cho một mẫu dữ liệu đầu vào. Sau đó, backward pass tính toán đạo hàm của hàm mất mát theo từng trọng số trong mạng neural. Thuật toán Gradient Descent được sử dụng để điều chỉnh các trọng số dựa trên đạo hàm tính được.\n",
    "\n",
    "## **c) Regression MLPs**\n",
    "\n",
    "Mạng MLP có thể được sử dụng cho các tác vụ hồi quy. Nếu bạn muốn dự đoán một giá trị duy nhất (ví dụ: giá nhà dựa trên nhiều đặc trưng của nó), thì bạn chỉ cần một neuron đầu ra: đầu ra của nó là giá trị dự đoán. Đối với hồi quy đa biến (tức là để dự đoán nhiều giá trị cùng một lúc), bạn cần một neuron đầu ra cho mỗi chiều đầu ra. Ví dụ: để xác định tâm của một đối tượng trên một hình ảnh, bạn cần dự đoán tọa độ 2D, vì vậy bạn cần hai neuron đầu ra. Nếu bạn muốn đặt một hộp bao quanh đối tượng, bạn cần thêm hai số nữa: chiều rộng và chiều cao của đối tượng. Vì vậy, bạn sẽ có tổng cộng 4 neuron đầu ra.\n",
    "\n",
    "Hàm kích hoạt được sử dụng trong đầu ra có thể không có hoặc sử dụng ReLU hoặc softplus để đảm bảo giá trị đầu ra luôn là dương, hoặc sử dụng logistic hoặc tanh để đảm bảo giá trị đầu ra nằm trong phạm vi giá trị cần thiết.\n",
    "\n",
    "Hàm mất mát thường được sử dụng là sai số trung bình bình phương, hoặc có thể sử dụng sai số trung bình tuyệt đối hoặc Huber loss.\n",
    "\n",
    "## **d) Classification MLPs**\n",
    "\n",
    "Mạng MLP cũng có thể được sử dụng cho các tác vụ phân loại. Đối với một bài toán phân loại nhị phân, ta chỉ cần sử dụng một neuron đầu ra với hàm kích hoạt logistic: đầu ra sẽ là một số từ 0 đến 1, mà ta có thể hiểu là xác suất ước tính của lớp dương. \n",
    "\n",
    "MLP cũng có thể xử lý tốt các bài toán phân loại nhị phân đa nhãn, trong đó mỗi mẫu có thể thuộc về nhiều lớp khác nhau. Ví dụ, hệ thống phân loại email có thể dự đoán liệu mỗi email đến có phải là thư thông thường hay thư rác, đồng thời dự đoán liệu nó có phải là email cấp bách hay không. Trong trường hợp này, ta cần hai neuron đầu ra, cả hai đều sử dụng hàm kích hoạt logistic: neuron đầu tiên sẽ đưa ra xác suất của email là thư rác và neuron thứ hai sẽ đưa ra xác suất của email là cấp bách. Nói chung, ta cần một neuron đầu ra cho mỗi lớp dương. \n",
    "\n",
    "Nếu mỗi mẫu chỉ thuộc về một lớp duy nhất trong số 3 hoặc nhiều hơn các lớp có thể có (ví dụ: các lớp từ 0 đến 9 cho phân loại hình ảnh số), ta cần có một neuron đầu ra cho mỗi lớp, và ta nên sử dụng hàm kích hoạt softmax cho toàn bộ lớp đầu ra. Hàm softmax sẽ đảm bảo rằng tất cả các xác suất ước tính đều nằm trong khoảng từ 0 đến 1 và tổng của chúng bằng 1 (điều này yêu cầu nếu các lớp là độc lập). Đây được gọi là phân loại đa lớp.\n",
    "\n",
    "![A modern MLP (including ReLU and softmax) for classification](image/mlst_1008.jpg)\n",
    "\n",
    "Về hàm mất mát, do chúng ta đang dự đoán phân phối xác suất nên hàm log loss nói chung sẽ là một lựa chọn tốt\n",
    "\n",
    "# **3. Triển khai MLPs với Keras**"
   ]
  },
  {
   "cell_type": "code",
   "execution_count": 3,
   "id": "7b87cfee",
   "metadata": {},
   "outputs": [],
   "source": [
    "# import các thư viện cần thiết\n",
    "import tensorflow as tf\n",
    "from tensorflow import keras\n",
    "import pandas as pd\n",
    "import numpy as np\n",
    "import matplotlib.pyplot as plt\n"
   ]
  },
  {
   "cell_type": "code",
   "execution_count": 4,
   "id": "1b6f1fc5",
   "metadata": {},
   "outputs": [],
   "source": [
    "fashion_mnist = keras.datasets.fashion_mnist\n",
    "(X_train_full, y_train_full), (X_test, y_test) = fashion_mnist.load_data()\n"
   ]
  },
  {
   "cell_type": "code",
   "execution_count": 5,
   "id": "bbbb20e3",
   "metadata": {},
   "outputs": [
    {
     "data": {
      "text/plain": [
       "(60000, 28, 28)"
      ]
     },
     "execution_count": 5,
     "metadata": {},
     "output_type": "execute_result"
    }
   ],
   "source": [
    "X_train_full.shape\n"
   ]
  },
  {
   "cell_type": "code",
   "execution_count": 6,
   "id": "6f046dc6",
   "metadata": {},
   "outputs": [
    {
     "data": {
      "text/plain": [
       "dtype('uint8')"
      ]
     },
     "execution_count": 6,
     "metadata": {},
     "output_type": "execute_result"
    }
   ],
   "source": [
    "X_train_full.dtype\n"
   ]
  },
  {
   "cell_type": "code",
   "execution_count": 7,
   "id": "3c2ac342",
   "metadata": {},
   "outputs": [],
   "source": [
    "# chia tập huấn luyện ban đâu thành tập huấn luyện và tập kiểm tra\n",
    "# chuẩn hoá đặc trưng\n",
    "X_valid, X_train = X_train_full[:5000] / 255.0, X_train_full[5000:] / 255.0\n",
    "y_valid, y_train = y_train_full[:5000], y_train_full[5000:]\n"
   ]
  },
  {
   "cell_type": "code",
   "execution_count": 8,
   "id": "98724bb1",
   "metadata": {},
   "outputs": [
    {
     "data": {
      "text/plain": [
       "'Coat'"
      ]
     },
     "execution_count": 8,
     "metadata": {},
     "output_type": "execute_result"
    }
   ],
   "source": [
    "class_names = [\"T-shirt/top\", \"Trouser\", \"Pullover\", \"Dress\", \"Coat\",\n",
    "               \"Sandal\", \"Shirt\", \"Sneaker\", \"Bag\", \"Ankle boot\"]\n",
    "class_names[y_train[0]]\n"
   ]
  },
  {
   "cell_type": "code",
   "execution_count": 9,
   "id": "9c8d9863",
   "metadata": {},
   "outputs": [],
   "source": [
    "def plot_items(data, labels):\n",
    "    for i, image in enumerate(data):\n",
    "        image_reshaped = image.reshape(28, 28)\n",
    "\n",
    "        plt.subplot(2, 5, i+1)\n",
    "        plt.imshow(image_reshaped, cmap=\"Blues\")\n",
    "        plt.title(class_names[labels[i]])\n",
    "        plt.axis(\"off\")\n"
   ]
  },
  {
   "cell_type": "code",
   "execution_count": 10,
   "metadata": {},
   "outputs": [
    {
     "data": {
      "image/png": "[encoded data removed]",
      "text/plain": [
       "<Figure size 640x480 with 10 Axes>"
      ]
     },
     "metadata": {},
     "output_type": "display_data"
    }
   ],
   "source": [
    "plot_items(X_train[:10], y_train[:10])\n",
    "plt.show()\n"
   ]
  },
  {
   "attachments": {},
   "cell_type": "markdown",
   "id": "0d84e833",
   "metadata": {},
   "source": [
    "**Tạo model sử dụng Sequential API**"
   ]
  },
  {
   "cell_type": "code",
   "execution_count": 11,
   "id": "bb7fb32a",
   "metadata": {},
   "outputs": [],
   "source": [
    "model = keras.models.Sequential()\n",
    "model.add(keras.layers.Flatten(input_shape=[28, 28]))\n",
    "model.add(keras.layers.Dense(300, activation=\"relu\"))\n",
    "model.add(keras.layers.Dense(100, activation=\"relu\"))\n",
    "model.add(keras.layers.Dense(10, activation=\"softmax\"))\n"
   ]
  },
  {
   "attachments": {},
   "cell_type": "markdown",
   "id": "81bec588",
   "metadata": {},
   "source": [
    "Đoạn code trên tạo ra một mô hình mạng nơ-ron sâu (deep neural network) với kiến trúc gồm 3 lớp fully connected layer. Mô hình này được tạo bằng cách sử dụng API Sequential của thư viện Keras.\n",
    "\n",
    "Cụ thể, kiến trúc của mô hình gồm các lớp sau:\n",
    "\n",
    "-   Lớp đầu tiên là một lớp Flatten, dùng để chuyển đổi đầu vào (các ma trận 2D của hình ảnh) thành một vector 1D. Lớp này không có trọng số và không thực hiện bất kỳ tính toán nào trên dữ liệu đầu vào.\n",
    "\n",
    "-   Lớp thứ hai là một lớp Dense với 300 nơ-ron và hàm kích hoạt ReLU. Lớp này sử dụng ma trận trọng số để tính toán đầu ra từ đầu vào (vector 1D đã được chuyển đổi từ lớp đầu tiên). Đầu ra của lớp này cũng là một vector 1D với 300 phần tử.\n",
    "\n",
    "-   Lớp thứ ba là một lớp Dense với 100 nơ-ron và hàm kích hoạt ReLU. Tương tự như lớp thứ hai, lớp này sử dụng ma trận trọng số để tính toán đầu ra từ đầu vào là vector 1D kết quả từ lớp trước đó. Đầu ra của lớp này cũng là một vector 1D với 100 phần tử.\n",
    "\n",
    "-   Lớp cuối cùng là một lớp Dense với 10 nơ-ron và hàm kích hoạt softmax. Lớp này sử dụng ma trận trọng số để tính toán xác suất của mỗi lớp cho mỗi mẫu đầu vào. Đầu ra của lớp này là một vector 1D với 10 phần tử, tương ứng với xác suất của mỗi lớp."
   ]
  },
  {
   "cell_type": "code",
   "execution_count": 12,
   "id": "1ee2cc8b",
   "metadata": {},
   "outputs": [
    {
     "name": "stdout",
     "output_type": "stream",
     "text": [
      "Model: \"sequential\"\n",
      "_________________________________________________________________\n",
      " Layer (type)                Output Shape              Param #   \n",
      "=================================================================\n",
      " flatten (Flatten)           (None, 784)               0         \n",
      "                                                                 \n",
      " dense (Dense)               (None, 300)               235500    \n",
      "                                                                 \n",
      " dense_1 (Dense)             (None, 100)               30100     \n",
      "                                                                 \n",
      " dense_2 (Dense)             (None, 10)                1010      \n",
      "                                                                 \n",
      "=================================================================\n",
      "Total params: 266,610\n",
      "Trainable params: 266,610\n",
      "Non-trainable params: 0\n",
      "_________________________________________________________________\n"
     ]
    }
   ],
   "source": [
    "model.summary()  # hiển thị tất cả các lớp của model\n"
   ]
  },
  {
   "attachments": {},
   "cell_type": "markdown",
   "id": "e7d0b043",
   "metadata": {},
   "source": [
    "**Compiling model**"
   ]
  },
  {
   "cell_type": "code",
   "execution_count": 13,
   "id": "6085f0e6",
   "metadata": {},
   "outputs": [],
   "source": [
    "model.compile(loss=\"sparse_categorical_crossentropy\",\n",
    "              optimizer=\"sgd\",\n",
    "              metrics=[\"accuracy\"])\n"
   ]
  },
  {
   "attachments": {},
   "cell_type": "markdown",
   "id": "22315e1d",
   "metadata": {},
   "source": [
    "- Hàm mất mát (loss function) được chọn là \"sparse_categorical_crossentropy\". Đây là một hàm mất mát thích hợp cho bài toán phân loại đa lớp (multi-class classification) khi mỗi mẫu đầu vào được gán nhãn bằng một số nguyên (như trong trường hợp này). Hàm mất mát này sẽ đo lường sai khác giữa các xác suất dự đoán và xác suất thực tế (one-hot encoding) của mỗi lớp, và cố gắng tối thiểu hóa sai số này trong quá trình huấn luyện.\n",
    "\n",
    "- Thuật toán tối ưu (optimizer) được chọn là \"sgd\", đây là một phương pháp tối ưu dựa trên gradient descent với tốc độ học (learning rate) mặc định là 0.01. Tối ưu hóa này sẽ cố gắng tìm ra trọng số tốt nhất cho mô hình để giảm thiểu hàm mất mát.\n",
    "\n",
    "- Metrics được chọn để đánh giá hiệu suất của mô hình trong quá trình huấn luyện và đánh giá là \"accuracy\", tức là tỷ lệ phân loại chính xác của mô hình trên tập dữ liệu đầu vào."
   ]
  },
  {
   "attachments": {},
   "cell_type": "markdown",
   "id": "ea3ce48c",
   "metadata": {},
   "source": [
    "**Huấn luyện và đánh giá Model**"
   ]
  },
  {
   "cell_type": "code",
   "execution_count": 14,
   "id": "734d38af",
   "metadata": {},
   "outputs": [
    {
     "name": "stdout",
     "output_type": "stream",
     "text": [
      "Epoch 1/30\n",
      "1719/1719 [==============================] - 3s 1ms/step - loss: 0.7178 - accuracy: 0.7647 - val_loss: 0.5042 - val_accuracy: 0.8288\n",
      "Epoch 2/30\n",
      "1719/1719 [==============================] - 2s 1ms/step - loss: 0.4885 - accuracy: 0.8299 - val_loss: 0.4818 - val_accuracy: 0.8202\n",
      "Epoch 3/30\n",
      "1719/1719 [==============================] - 2s 1ms/step - loss: 0.4421 - accuracy: 0.8450 - val_loss: 0.4155 - val_accuracy: 0.8596\n",
      "Epoch 4/30\n",
      "1719/1719 [==============================] - 2s 1ms/step - loss: 0.4137 - accuracy: 0.8538 - val_loss: 0.4068 - val_accuracy: 0.8630\n",
      "Epoch 5/30\n",
      "1719/1719 [==============================] - 3s 2ms/step - loss: 0.3941 - accuracy: 0.8609 - val_loss: 0.3756 - val_accuracy: 0.8704\n",
      "Epoch 6/30\n",
      "1719/1719 [==============================] - 3s 2ms/step - loss: 0.3790 - accuracy: 0.8658 - val_loss: 0.3757 - val_accuracy: 0.8678\n",
      "Epoch 7/30\n",
      "1719/1719 [==============================] - 4s 2ms/step - loss: 0.3648 - accuracy: 0.8703 - val_loss: 0.3593 - val_accuracy: 0.8756\n",
      "Epoch 8/30\n",
      "1719/1719 [==============================] - 4s 2ms/step - loss: 0.3530 - accuracy: 0.8749 - val_loss: 0.3580 - val_accuracy: 0.8716\n",
      "Epoch 9/30\n",
      "1719/1719 [==============================] - 3s 2ms/step - loss: 0.3433 - accuracy: 0.8784 - val_loss: 0.3492 - val_accuracy: 0.8774\n",
      "Epoch 10/30\n",
      "1719/1719 [==============================] - 3s 2ms/step - loss: 0.3337 - accuracy: 0.8806 - val_loss: 0.3968 - val_accuracy: 0.8556\n",
      "Epoch 11/30\n",
      "1719/1719 [==============================] - 3s 2ms/step - loss: 0.3256 - accuracy: 0.8832 - val_loss: 0.3398 - val_accuracy: 0.8804\n",
      "Epoch 12/30\n",
      "1719/1719 [==============================] - 3s 2ms/step - loss: 0.3179 - accuracy: 0.8851 - val_loss: 0.3361 - val_accuracy: 0.8818\n",
      "Epoch 13/30\n",
      "1719/1719 [==============================] - 3s 2ms/step - loss: 0.3105 - accuracy: 0.8889 - val_loss: 0.3297 - val_accuracy: 0.8818\n",
      "Epoch 14/30\n",
      "1719/1719 [==============================] - 3s 2ms/step - loss: 0.3036 - accuracy: 0.8902 - val_loss: 0.3356 - val_accuracy: 0.8798\n",
      "Epoch 15/30\n",
      "1719/1719 [==============================] - 3s 2ms/step - loss: 0.2975 - accuracy: 0.8927 - val_loss: 0.3163 - val_accuracy: 0.8852\n",
      "Epoch 16/30\n",
      "1719/1719 [==============================] - 3s 2ms/step - loss: 0.2914 - accuracy: 0.8957 - val_loss: 0.3247 - val_accuracy: 0.8826\n",
      "Epoch 17/30\n",
      "1719/1719 [==============================] - 2s 1ms/step - loss: 0.2854 - accuracy: 0.8968 - val_loss: 0.3156 - val_accuracy: 0.8854\n",
      "Epoch 18/30\n",
      "1719/1719 [==============================] - 3s 1ms/step - loss: 0.2802 - accuracy: 0.8991 - val_loss: 0.3164 - val_accuracy: 0.8844\n",
      "Epoch 19/30\n",
      "1719/1719 [==============================] - 2s 1ms/step - loss: 0.2756 - accuracy: 0.9004 - val_loss: 0.3449 - val_accuracy: 0.8802\n",
      "Epoch 20/30\n",
      "1719/1719 [==============================] - 2s 1ms/step - loss: 0.2711 - accuracy: 0.9032 - val_loss: 0.3047 - val_accuracy: 0.8902\n",
      "Epoch 21/30\n",
      "1719/1719 [==============================] - 3s 2ms/step - loss: 0.2656 - accuracy: 0.9048 - val_loss: 0.3143 - val_accuracy: 0.8880\n",
      "Epoch 22/30\n",
      "1719/1719 [==============================] - 3s 2ms/step - loss: 0.2602 - accuracy: 0.9059 - val_loss: 0.3196 - val_accuracy: 0.8830\n",
      "Epoch 23/30\n",
      "1719/1719 [==============================] - 3s 1ms/step - loss: 0.2563 - accuracy: 0.9073 - val_loss: 0.3052 - val_accuracy: 0.8884\n",
      "Epoch 24/30\n",
      "1719/1719 [==============================] - 2s 1ms/step - loss: 0.2515 - accuracy: 0.9088 - val_loss: 0.3087 - val_accuracy: 0.8890\n",
      "Epoch 25/30\n",
      "1719/1719 [==============================] - 3s 1ms/step - loss: 0.2487 - accuracy: 0.9099 - val_loss: 0.2997 - val_accuracy: 0.8948\n",
      "Epoch 26/30\n",
      "1719/1719 [==============================] - 2s 1ms/step - loss: 0.2435 - accuracy: 0.9128 - val_loss: 0.3067 - val_accuracy: 0.8854\n",
      "Epoch 27/30\n",
      "1719/1719 [==============================] - 2s 1ms/step - loss: 0.2396 - accuracy: 0.9141 - val_loss: 0.2981 - val_accuracy: 0.8874\n",
      "Epoch 28/30\n",
      "1719/1719 [==============================] - 2s 1ms/step - loss: 0.2365 - accuracy: 0.9141 - val_loss: 0.3074 - val_accuracy: 0.8858\n",
      "Epoch 29/30\n",
      "1719/1719 [==============================] - 2s 1ms/step - loss: 0.2319 - accuracy: 0.9159 - val_loss: 0.3007 - val_accuracy: 0.8940\n",
      "Epoch 30/30\n",
      "1719/1719 [==============================] - 2s 1ms/step - loss: 0.2280 - accuracy: 0.9181 - val_loss: 0.2922 - val_accuracy: 0.8926\n"
     ]
    }
   ],
   "source": [
    "history = model.fit(X_train, y_train, epochs=30,\n",
    "                    validation_data=(X_valid, y_valid))\n"
   ]
  },
  {
   "cell_type": "code",
   "execution_count": 15,
   "id": "4ed9b5bd",
   "metadata": {},
   "outputs": [
    {
     "data": {
      "image/png": "[encoded data removed]",
      "text/plain": [
       "<Figure size 800x500 with 1 Axes>"
      ]
     },
     "metadata": {},
     "output_type": "display_data"
    }
   ],
   "source": [
    "pd.DataFrame(history.history).plot(figsize=(8, 5))\n",
    "plt.grid(True)\n",
    "plt.gca().set_ylim(0, 1)  # set the vertical range to [0-1]\n",
    "plt.show()\n"
   ]
  },
  {
   "attachments": {},
   "cell_type": "markdown",
   "id": "5c274a4c",
   "metadata": {},
   "source": [
    "- Có thể thấy độ chính xác của tập huấn luyện và kiểm tra tăng đều trong quá trình huấn luyện.\n",
    "- Đường kiểm tra và huấn luyện khá gần nhau, điều đó có nghĩa là mô hình của ta không quá fit."
   ]
  },
  {
   "cell_type": "code",
   "execution_count": 16,
   "id": "276f93be",
   "metadata": {},
   "outputs": [
    {
     "name": "stdout",
     "output_type": "stream",
     "text": [
      "313/313 [==============================] - 0s 907us/step - loss: 58.9035 - accuracy: 0.8506\n"
     ]
    },
    {
     "data": {
      "text/plain": [
       "[58.903499603271484, 0.850600004196167]"
      ]
     },
     "execution_count": 16,
     "metadata": {},
     "output_type": "execute_result"
    }
   ],
   "source": [
    "model.evaluate(X_test, y_test)\n"
   ]
  },
  {
   "attachments": {},
   "cell_type": "markdown",
   "id": "ab9e1af7",
   "metadata": {},
   "source": [
    "**Sử dụng Model đưa ra dự đoán**"
   ]
  },
  {
   "cell_type": "code",
   "execution_count": 17,
   "id": "bbd35334",
   "metadata": {},
   "outputs": [
    {
     "name": "stdout",
     "output_type": "stream",
     "text": [
      "1/1 [==============================] - 0s 65ms/step\n"
     ]
    },
    {
     "data": {
      "text/plain": [
       "array([[0., 0., 0., 0., 0., 0., 0., 0., 0., 1.],\n",
       "       [0., 0., 1., 0., 0., 0., 0., 0., 0., 0.],\n",
       "       [0., 1., 0., 0., 0., 0., 0., 0., 0., 0.]], dtype=float32)"
      ]
     },
     "execution_count": 17,
     "metadata": {},
     "output_type": "execute_result"
    }
   ],
   "source": [
    "X_new = X_test[:3]\n",
    "y_proba = model.predict(X_new)\n",
    "y_proba\n"
   ]
  },
  {
   "cell_type": "code",
   "execution_count": 18,
   "id": "28409288",
   "metadata": {},
   "outputs": [
    {
     "name": "stdout",
     "output_type": "stream",
     "text": [
      "1/1 [==============================] - 0s 19ms/step\n"
     ]
    },
    {
     "data": {
      "text/plain": [
       "array([9, 2, 1], dtype=int64)"
      ]
     },
     "execution_count": 18,
     "metadata": {},
     "output_type": "execute_result"
    }
   ],
   "source": [
    "y_pred = np.argmax(model.predict(X_new), axis=-1)\n",
    "y_pred\n"
   ]
  },
  {
   "cell_type": "code",
   "execution_count": 19,
   "id": "39518e7d",
   "metadata": {},
   "outputs": [
    {
     "data": {
      "text/plain": [
       "array(['Ankle boot', 'Pullover', 'Trouser'], dtype='<U11')"
      ]
     },
     "execution_count": 19,
     "metadata": {},
     "output_type": "execute_result"
    }
   ],
   "source": [
    "np.array(class_names)[y_pred]\n"
   ]
  },
  {
   "cell_type": "code",
   "execution_count": 20,
   "id": "359ab185",
   "metadata": {},
   "outputs": [
    {
     "data": {
      "text/plain": [
       "array([9, 2, 1], dtype=uint8)"
      ]
     },
     "execution_count": 20,
     "metadata": {},
     "output_type": "execute_result"
    }
   ],
   "source": [
    "y_test[:3]\n"
   ]
  },
  {
   "attachments": {},
   "cell_type": "markdown",
   "id": "63c9a2b7",
   "metadata": {},
   "source": [
    "Ta có thể lưu và khôi phục lại một model"
   ]
  },
  {
   "cell_type": "code",
   "execution_count": 21,
   "id": "5cfc79c2",
   "metadata": {},
   "outputs": [],
   "source": [
    "model.save(\"my_keras_model.h5\")  # save model\n"
   ]
  },
  {
   "cell_type": "code",
   "execution_count": 22,
   "id": "5397678c",
   "metadata": {},
   "outputs": [],
   "source": [
    "model = keras.models.load_model(\"my_keras_model.h5\")  # restore model\n"
   ]
  },
  {
   "attachments": {},
   "cell_type": "markdown",
   "id": "37c4e3f2",
   "metadata": {},
   "source": [
    "# **4. Tinh chỉnh các hyperparameter của mạng neural**\n",
    "\n",
    "-   Tính linh hoạt của mạng lưới neural là một trong những nhược điểm chính của chúng. Chúng có nhiều hyperparameter để tinh chỉnh chẳng hạn như số lớp và số neural, hàm kích hoạt và logic khởi tạo trọng số.\n",
    "-   Một cách đơn giản đó là thử nhiều kết hợp các hyperparameter với nhau và xem kết hợp nào cho kết quả tốt nhất. Ta có thể sử dụng **GridSearchCV** hoặc **RandomizedSearchCV**\n",
    "-   Ngoài ra, có rất nhiều kĩ thuật khác để khám phá không gian tìm kiếm hiệu quả hơn cách chọn ngẫu nhiên. Ý tưởng rất đơn giản: khi 1 khu vực của không gian tìm kiếm được phát hiện là tốt, nó nên được khám phá nhiều hơn.\n",
    "    -   Hyperopt: một thư viện Python phổ biến để tối ưu hóa trên tất cả các loại không gian tìm kiếm phức tạp (bao gồm các giá trị thực như tỷ lệ học tập hoặc các giá trị rời rạc như số lớp).\n",
    "\n",
    "    -   Hyperas, kopt hoặc Talos: tối ưu hóa siêu tham số cho mô hình Keras (hai thư viện đầu tiên dựa trên Hyperopt).\n",
    "\n",
    "    -   Scikit-Optimize (skopt): một thư viện tối ưu hóa đa năng. Lớp Bayes SearchCV thực hiện tối ưu hóa Bayesian bằng cách sử dụng giao diện tương tự như Grid SearchCV.\n",
    "\n",
    "    -   Spearmint: một thư viện tối ưu hóa Bayesian.\n",
    "\n",
    "    -   Sklearn-Deap: một thư viện tối ưu hóa siêu tham số dựa trên các thuật toán tiến hóa, cũng với một giao diện tương tự như GridSearchCV.\n",
    "\n",
    "    -   Và còn nhiều thư viện khác nữa!\n",
    "- Số lượng hidden layers và số lượng neurons trong mỗi hidden layer là những tham số quan trọng cần được điều chỉnh để có được mô hình phù hợp. Với nhiều bài toán, một hidden layer đơn giản có thể đủ để đạt được kết quả tốt. Tuy nhiên, sử dụng nhiều hidden layers sẽ giúp mạng nơ-ron học được cấu trúc dữ liệu phức tạp hơn và đạt được hiệu suất tốt hơn với cùng lượng dữ liệu huấn luyện. Số lượng neurons trong mỗi hidden layer cũng cần được điều chỉnh, tuy nhiên, việc tăng số lượng hidden layers thường mang lại hiệu quả hơn. Các tham số khác như tốc độ học, kích thước batch cũng ảnh hưởng đáng kể đến hiệu suất của mô hình. Chọn một optimizer tốt và điều chỉnh các tham số của nó cũng rất quan trọng. Để tìm các tham số tối ưu, có thể sử dụng các kỹ thuật như early stopping. Có nhiều kiến trúc mạng nơ-ron khác nhau được sử dụng cho các bài toán khác nhau, bao gồm mạng nơ-ron tích chập và mạng nơ-ron tái tạo."
   ]
  }
 ],
 "metadata": {
  "kernelspec": {
   "display_name": "Python 3 (ipykernel)",
   "language": "python",
   "name": "python3"
  },
  "language_info": {
   "codemirror_mode": {
    "name": "ipython",
    "version": 3
   },
   "file_extension": ".py",
   "mimetype": "text/x-python",
   "name": "python",
   "nbconvert_exporter": "python",
   "pygments_lexer": "ipython3",
   "version": "3.11.2"
  }
 },
 "nbformat": 4,
 "nbformat_minor": 5
}
