{
 "cells": [
  {
   "cell_type": "markdown",
   "id": "956e1179",
   "metadata": {},
   "source": [
    "# **1. Giới thiệu về mạng neural nhân tạo**\n",
    "\n",
    "Mạng nơ-ron nhân tạo (Neural Network - NN) là một mô hình lập trình rất đẹp lấy cảm hứng từ các tế bào thần kinh sinh học. Chúng rất linh hoạt, mạnh mẽ và có thể mở rộng, khiến chúng trở nên lý tưởng để giải quyết các tác vụ Machine Learning lớn và rất phức tạp, chẳng hạn như phân loại hàng tỷ hình ảnh (ví dụ: Google Images), cung cấp năng lượng cho các dịch vụ nhận dạng giọng nói (ví dụ: Siri của Apple), đề xuất các video hay nhất để xem cho hàng trăm triệu người dùng mỗi ngày (ví dụ: YouTube) hoặc học cách đánh bại nhà vô địch thế giới trong trò chơi cờ vây bằng cách kiểm tra hàng triệu trò chơi trong quá khứ và sau đó chơi với chính nó (AlphaGo của DeepMind).\n",
    "\n",
    "# **2. Các loại mạng neural nhân tạo**\n",
    "\n",
    "Mạng thần kinh nhân tạo có thể được phân chia thành nhiều loại khác nhau, sử dụng cho những mục đích khác nhau.\n",
    "\n",
    "## **a) Mạng Perceptron**\n",
    "\n",
    "Perceptron là một trong những kiến trúc ANN đơn giản nhất, được phát minh vào năm 1957 bởi Frank Rosenblatt. Nó dựa trên một mạng neural được gọi là đơn vị ngưỡng tuyến tính (LTU): đầu vào và đầu ra là các số, các đầu vào được điều phối tầm ảnh hưởng bởi các trọng số tương ứng. LTU sẽ tính tổng trọng số của các đầu vào \\$z = w\\_{1}x\\_{1} + w\\_{2}x\\_{2} + ... + w\\_{n}x\\_{n} = x\\^{T}w\\$, sau đó áp dụng hàm step cho tổng đó và xuất ra kết quả \\$h\\_{w}(x) = step(z)\\$\n",
    "\n",
    "![Threshold logic unit](image/mlst_1004.png)\n",
    "\n",
    "Hàm step phổ biến nhất được dùng trong Perceptron là hàm Heaviside. Đôi khi, hàm xác định dấu được sử dụng để thay thế.\n",
    "$$\n",
    "heaviside(z) = \\left\\{\\begin{matrix}\n",
    "0 & if & z < 0\\\\ \n",
    "1 & if & z \\geq 0 & \n",
    "\\end{matrix}\\right.\n",
    "sgn(z) = \\left\\{\\begin{matrix}\n",
    "-1 & if & z<0 \\\\ \n",
    " 0& if &z=0 \\\\ \n",
    " 1& if &z>0 \n",
    "\\end{matrix}\\right.\n",
    "$$\n",
    "\n",
    "Một LTU duy nhất có thể được sử dụng để phân loại nhị phân tuyến tính đơn giản. Perceptron chỉ đơn giản bao gồm một lớp TLU duy nhất với mỗi tế bào thần kinh được kết nối với tất cả các đầu vào. \n",
    "\n",
    "Thuật toán đào tạo Perceptron được lấy cảm hứng từ quy tắc Hebb: trọng số kết nối giữa hai tế bào thần kinh được tăng lên bất kì khi nào chúng có cùng đầu ra. Perceptron được đào tạo bằng cách sử dụng một biến thể của quy tắc này có tính đến lỗi do mạng gây ra; Nó củng cố các kết nối giúp giảm sai số. Cụ thể hơn, Perceptron được cung cấp một trường hợp đào tạo tại một thời điểm và đối với mỗi trường hợp, nó đưa ra dự đoán của nó. Đối với mỗi tế bào thần kinh cho ra một dự đoán sai, nó củng cố trọng số kết nối từ các đầu vào sẽ góp phần vào dự đoán chính xác. Quy luật đó được thể hiện qua phương trình sau:\n",
    "$$\n",
    "w_{i, j}^{(next step)}=w_{i,j}+\\eta (y_{j}-\\widehat{y_{j}})x_{i}\n",
    "$$\n",
    "\n",
    "Ranh giới quyết định đầu ra của mỗi neural là tuyến tính, vì vậy Perceptron không có khả năng học các mẫu phức tạp (ví dụ như vấn đề phân loại $XOR$). Tuy nhiên, ta có thể loại bỏ hạn chế đó bằng cách xếp chồng nhiều Perceptron tạo thành Multi-Layer Perceptron có thể giải quyết được nhiều vấn đề phức tạp hơn.\n",
    "\n",
    "![XOR classification problem and an MLP that solves it](image/mlst_1006.png)\n",
    "\n",
    "Scikit-Learn cung cấp một lớp Perceptron thực hiện một TLU duy nhất. Ví dụ, trên tập dữ liệu Iris"
   ]
  },
  {
   "cell_type": "code",
   "execution_count": 1,
   "id": "884e3cd9",
   "metadata": {},
   "outputs": [
    {
     "name": "stderr",
     "output_type": "stream",
     "text": [
      "C:\\Users\\imlda\\AppData\\Local\\Temp\\ipykernel_16252\\2349346633.py:6: DeprecationWarning: `np.int` is a deprecated alias for the builtin `int`. To silence this warning, use `int` by itself. Doing this will not modify any behavior and is safe. When replacing `np.int`, you may wish to use e.g. `np.int64` or `np.int32` to specify the precision. If you wish to review your current use, check the release note link for additional information.\n",
      "Deprecated in NumPy 1.20; for more details and guidance: https://numpy.org/devdocs/release/1.20.0-notes.html#deprecations\n",
      "  y = (iris.target == 0).astype(np.int) # Iris Setosa?\n"
     ]
    },
    {
     "data": {
      "text/html": [
       "<style>#sk-container-id-1 {color: black;background-color: white;}#sk-container-id-1 pre{padding: 0;}#sk-container-id-1 div.sk-toggleable {background-color: white;}#sk-container-id-1 label.sk-toggleable__label {cursor: pointer;display: block;width: 100%;margin-bottom: 0;padding: 0.3em;box-sizing: border-box;text-align: center;}#sk-container-id-1 label.sk-toggleable__label-arrow:before {content: \"▸\";float: left;margin-right: 0.25em;color: #696969;}#sk-container-id-1 label.sk-toggleable__label-arrow:hover:before {color: black;}#sk-container-id-1 div.sk-estimator:hover label.sk-toggleable__label-arrow:before {color: black;}#sk-container-id-1 div.sk-toggleable__content {max-height: 0;max-width: 0;overflow: hidden;text-align: left;background-color: #f0f8ff;}#sk-container-id-1 div.sk-toggleable__content pre {margin: 0.2em;color: black;border-radius: 0.25em;background-color: #f0f8ff;}#sk-container-id-1 input.sk-toggleable__control:checked~div.sk-toggleable__content {max-height: 200px;max-width: 100%;overflow: auto;}#sk-container-id-1 input.sk-toggleable__control:checked~label.sk-toggleable__label-arrow:before {content: \"▾\";}#sk-container-id-1 div.sk-estimator input.sk-toggleable__control:checked~label.sk-toggleable__label {background-color: #d4ebff;}#sk-container-id-1 div.sk-label input.sk-toggleable__control:checked~label.sk-toggleable__label {background-color: #d4ebff;}#sk-container-id-1 input.sk-hidden--visually {border: 0;clip: rect(1px 1px 1px 1px);clip: rect(1px, 1px, 1px, 1px);height: 1px;margin: -1px;overflow: hidden;padding: 0;position: absolute;width: 1px;}#sk-container-id-1 div.sk-estimator {font-family: monospace;background-color: #f0f8ff;border: 1px dotted black;border-radius: 0.25em;box-sizing: border-box;margin-bottom: 0.5em;}#sk-container-id-1 div.sk-estimator:hover {background-color: #d4ebff;}#sk-container-id-1 div.sk-parallel-item::after {content: \"\";width: 100%;border-bottom: 1px solid gray;flex-grow: 1;}#sk-container-id-1 div.sk-label:hover label.sk-toggleable__label {background-color: #d4ebff;}#sk-container-id-1 div.sk-serial::before {content: \"\";position: absolute;border-left: 1px solid gray;box-sizing: border-box;top: 0;bottom: 0;left: 50%;z-index: 0;}#sk-container-id-1 div.sk-serial {display: flex;flex-direction: column;align-items: center;background-color: white;padding-right: 0.2em;padding-left: 0.2em;position: relative;}#sk-container-id-1 div.sk-item {position: relative;z-index: 1;}#sk-container-id-1 div.sk-parallel {display: flex;align-items: stretch;justify-content: center;background-color: white;position: relative;}#sk-container-id-1 div.sk-item::before, #sk-container-id-1 div.sk-parallel-item::before {content: \"\";position: absolute;border-left: 1px solid gray;box-sizing: border-box;top: 0;bottom: 0;left: 50%;z-index: -1;}#sk-container-id-1 div.sk-parallel-item {display: flex;flex-direction: column;z-index: 1;position: relative;background-color: white;}#sk-container-id-1 div.sk-parallel-item:first-child::after {align-self: flex-end;width: 50%;}#sk-container-id-1 div.sk-parallel-item:last-child::after {align-self: flex-start;width: 50%;}#sk-container-id-1 div.sk-parallel-item:only-child::after {width: 0;}#sk-container-id-1 div.sk-dashed-wrapped {border: 1px dashed gray;margin: 0 0.4em 0.5em 0.4em;box-sizing: border-box;padding-bottom: 0.4em;background-color: white;}#sk-container-id-1 div.sk-label label {font-family: monospace;font-weight: bold;display: inline-block;line-height: 1.2em;}#sk-container-id-1 div.sk-label-container {text-align: center;}#sk-container-id-1 div.sk-container {/* jupyter's `normalize.less` sets `[hidden] { display: none; }` but bootstrap.min.css set `[hidden] { display: none !important; }` so we also need the `!important` here to be able to override the default hidden behavior on the sphinx rendered scikit-learn.org. See: https://github.com/scikit-learn/scikit-learn/issues/21755 */display: inline-block !important;position: relative;}#sk-container-id-1 div.sk-text-repr-fallback {display: none;}</style><div id=\"sk-container-id-1\" class=\"sk-top-container\"><div class=\"sk-text-repr-fallback\"><pre>Perceptron()</pre><b>In a Jupyter environment, please rerun this cell to show the HTML representation or trust the notebook. <br />On GitHub, the HTML representation is unable to render, please try loading this page with nbviewer.org.</b></div><div class=\"sk-container\" hidden><div class=\"sk-item\"><div class=\"sk-estimator sk-toggleable\"><input class=\"sk-toggleable__control sk-hidden--visually\" id=\"sk-estimator-id-1\" type=\"checkbox\" checked><label for=\"sk-estimator-id-1\" class=\"sk-toggleable__label sk-toggleable__label-arrow\">Perceptron</label><div class=\"sk-toggleable__content\"><pre>Perceptron()</pre></div></div></div></div></div>"
      ],
      "text/plain": [
       "Perceptron()"
      ]
     },
     "execution_count": 1,
     "metadata": {},
     "output_type": "execute_result"
    }
   ],
   "source": [
    "import numpy as np\n",
    "from sklearn.datasets import load_iris\n",
    "from sklearn.linear_model import Perceptron\n",
    "iris = load_iris()\n",
    "X = iris.data[:, (2, 3)] # petal length, petal width\n",
    "y = (iris.target == 0).astype(np.int) # Iris Setosa?\n",
    "per_clf = Perceptron()\n",
    "per_clf.fit(X, y)"
   ]
  },
  {
   "cell_type": "code",
   "execution_count": 2,
   "id": "599edd85",
   "metadata": {},
   "outputs": [
    {
     "data": {
      "text/plain": [
       "array([0])"
      ]
     },
     "execution_count": 2,
     "metadata": {},
     "output_type": "execute_result"
    }
   ],
   "source": [
    "per_clf.predict([[2, 0.5]])"
   ]
  },
  {
   "cell_type": "markdown",
   "id": "b2dd6087",
   "metadata": {},
   "source": [
    "## **b) Mạng neural truyền thẳng nhiều lớp (MLP) và thuật toán lan truyền ngược (Backpropagation)**\n",
    "\n",
    "MLP bao gồm một lớp đầu vào, một hoặc nhiều lớp LTU (lớp ẩn) và lớp LTU cuối cùng được gọi là lớp đầu ra. Khi một ANN có hai hoặc nhiều lớp ẩn thì nó được gọi là Deep neural networks.\n",
    "\n",
    "![Multi-Layer Perceptron](image/mlst_1007.png)\n",
    "\n",
    "Các nhà nghiên cứu đã cố gắng tìm các để đào tạo MLP trong nhiều năm nhưng không thành công. Nhưng vào năm 1986 David Rumelhart, Geoffrey Hinton và Ronald William đã giới thiệu về thuật toán lan truyền ngược. Thuật toán này được sử dụng để tối ưu hàm mất mát bằng cách điều chỉnh các trọng số của mạng neural. Quá trình huấn luyện bằng backpropagation bao gồm hai giai đoạn: forward pass và backward pass. Forward pass tính toán đầu ra của mạng neural cho một mẫu dữ liệu đầu vào. Sau đó, backward pass tính toán đạo hàm của hàm mất mát theo từng trọng số trong mạng neural. Thuật toán Gradient Descent được sử dụng để điều chỉnh các trọng số dựa trên đạo hàm tính được.\n",
    "\n",
    "## **c) Regression MLPs**\n",
    "\n",
    "Mạng MLP có thể được sử dụng cho các tác vụ hồi quy. Nếu bạn muốn dự đoán một giá trị duy nhất (ví dụ: giá nhà dựa trên nhiều đặc trưng của nó), thì bạn chỉ cần một neuron đầu ra: đầu ra của nó là giá trị dự đoán. Đối với hồi quy đa biến (tức là để dự đoán nhiều giá trị cùng một lúc), bạn cần một neuron đầu ra cho mỗi chiều đầu ra. Ví dụ: để xác định tâm của một đối tượng trên một hình ảnh, bạn cần dự đoán tọa độ 2D, vì vậy bạn cần hai neuron đầu ra. Nếu bạn muốn đặt một hộp bao quanh đối tượng, bạn cần thêm hai số nữa: chiều rộng và chiều cao của đối tượng. Vì vậy, bạn sẽ có tổng cộng 4 neuron đầu ra.\n",
    "\n",
    "Hàm kích hoạt được sử dụng trong đầu ra có thể không có hoặc sử dụng ReLU hoặc softplus để đảm bảo giá trị đầu ra luôn là dương, hoặc sử dụng logistic hoặc tanh để đảm bảo giá trị đầu ra nằm trong phạm vi giá trị cần thiết.\n",
    "\n",
    "Hàm mất mát thường được sử dụng là sai số trung bình bình phương, hoặc có thể sử dụng sai số trung bình tuyệt đối hoặc Huber loss.\n",
    "\n",
    "## **d) Classification MLPs**\n",
    "\n",
    "Mạng MLP cũng có thể được sử dụng cho các tác vụ phân loại. Đối với một bài toán phân loại nhị phân, ta chỉ cần sử dụng một neuron đầu ra với hàm kích hoạt logistic: đầu ra sẽ là một số từ 0 đến 1, mà ta có thể hiểu là xác suất ước tính của lớp dương. \n",
    "\n",
    "MLP cũng có thể xử lý tốt các bài toán phân loại nhị phân đa nhãn, trong đó mỗi mẫu có thể thuộc về nhiều lớp khác nhau. Ví dụ, hệ thống phân loại email có thể dự đoán liệu mỗi email đến có phải là thư thông thường hay thư rác, đồng thời dự đoán liệu nó có phải là email cấp bách hay không. Trong trường hợp này, ta cần hai neuron đầu ra, cả hai đều sử dụng hàm kích hoạt logistic: neuron đầu tiên sẽ đưa ra xác suất của email là thư rác và neuron thứ hai sẽ đưa ra xác suất của email là cấp bách. Nói chung, ta cần một neuron đầu ra cho mỗi lớp dương. \n",
    "\n",
    "Nếu mỗi mẫu chỉ thuộc về một lớp duy nhất trong số 3 hoặc nhiều hơn các lớp có thể có (ví dụ: các lớp từ 0 đến 9 cho phân loại hình ảnh số), ta cần có một neuron đầu ra cho mỗi lớp, và ta nên sử dụng hàm kích hoạt softmax cho toàn bộ lớp đầu ra. Hàm softmax sẽ đảm bảo rằng tất cả các xác suất ước tính đều nằm trong khoảng từ 0 đến 1 và tổng của chúng bằng 1 (điều này yêu cầu nếu các lớp là độc lập). Đây được gọi là phân loại đa lớp.\n",
    "\n",
    "![A modern MLP (including ReLU and softmax) for classification](image/mlst_1008.jpg)\n",
    "\n",
    "Về hàm mất mát, do chúng ta đang dự đoán phân phối xác suất nên hàm log loss nói chung sẽ là một lựa chọn tốt\n",
    "\n",
    "# **3. Triển khai MLPs với Keras**"
   ]
  },
  {
   "cell_type": "code",
   "execution_count": 23,
   "id": "7b87cfee",
   "metadata": {},
   "outputs": [],
   "source": [
    "import tensorflow as tf\n",
    "from tensorflow import keras\n",
    "import pandas as pd\n",
    "import numpy as np\n",
    "import matplotlib.pyplot as plt"
   ]
  },
  {
   "cell_type": "code",
   "execution_count": 4,
   "id": "1b6f1fc5",
   "metadata": {},
   "outputs": [],
   "source": [
    "fashion_mnist = keras.datasets.fashion_mnist\n",
    "(X_train_full, y_train_full), (X_test, y_test) = fashion_mnist.load_data()"
   ]
  },
  {
   "cell_type": "code",
   "execution_count": 5,
   "id": "bbbb20e3",
   "metadata": {},
   "outputs": [
    {
     "data": {
      "text/plain": [
       "(60000, 28, 28)"
      ]
     },
     "execution_count": 5,
     "metadata": {},
     "output_type": "execute_result"
    }
   ],
   "source": [
    "X_train_full.shape"
   ]
  },
  {
   "cell_type": "code",
   "execution_count": 6,
   "id": "6f046dc6",
   "metadata": {},
   "outputs": [
    {
     "data": {
      "text/plain": [
       "dtype('uint8')"
      ]
     },
     "execution_count": 6,
     "metadata": {},
     "output_type": "execute_result"
    }
   ],
   "source": [
    "X_train_full.dtype"
   ]
  },
  {
   "cell_type": "code",
   "execution_count": 7,
   "id": "3c2ac342",
   "metadata": {},
   "outputs": [],
   "source": [
    "X_valid, X_train = X_train_full[:5000] / 255.0, X_train_full[5000:] / 255.0\n",
    "y_valid, y_train = y_train_full[:5000], y_train_full[5000:]"
   ]
  },
  {
   "cell_type": "code",
   "execution_count": 8,
   "id": "98724bb1",
   "metadata": {},
   "outputs": [
    {
     "data": {
      "text/plain": [
       "'Coat'"
      ]
     },
     "execution_count": 8,
     "metadata": {},
     "output_type": "execute_result"
    }
   ],
   "source": [
    "class_names = [\"T-shirt/top\", \"Trouser\", \"Pullover\", \"Dress\", \"Coat\",\n",
    " \"Sandal\", \"Shirt\", \"Sneaker\", \"Bag\", \"Ankle boot\"]\n",
    "class_names[y_train[0]]"
   ]
  },
  {
   "cell_type": "code",
   "execution_count": 9,
   "id": "bb7fb32a",
   "metadata": {},
   "outputs": [],
   "source": [
    "model = keras.models.Sequential()\n",
    "model.add(keras.layers.Flatten(input_shape=[28, 28]))\n",
    "model.add(keras.layers.Dense(300, activation=\"relu\"))\n",
    "model.add(keras.layers.Dense(100, activation=\"relu\"))\n",
    "model.add(keras.layers.Dense(10, activation=\"softmax\"))"
   ]
  },
  {
   "cell_type": "code",
   "execution_count": 10,
   "id": "6028b793",
   "metadata": {},
   "outputs": [],
   "source": [
    "model = keras.models.Sequential([\n",
    "    keras.layers.Flatten(input_shape=[28, 28]),\n",
    "    keras.layers.Dense(300, activation=\"relu\"),\n",
    "    keras.layers.Dense(100, activation=\"relu\"),\n",
    "    keras.layers.Dense(10, activation=\"softmax\")\n",
    "])"
   ]
  },
  {
   "cell_type": "code",
   "execution_count": 11,
   "id": "1ee2cc8b",
   "metadata": {},
   "outputs": [
    {
     "name": "stdout",
     "output_type": "stream",
     "text": [
      "Model: \"sequential_1\"\n",
      "_________________________________________________________________\n",
      " Layer (type)                Output Shape              Param #   \n",
      "=================================================================\n",
      " flatten_1 (Flatten)         (None, 784)               0         \n",
      "                                                                 \n",
      " dense_3 (Dense)             (None, 300)               235500    \n",
      "                                                                 \n",
      " dense_4 (Dense)             (None, 100)               30100     \n",
      "                                                                 \n",
      " dense_5 (Dense)             (None, 10)                1010      \n",
      "                                                                 \n",
      "=================================================================\n",
      "Total params: 266,610\n",
      "Trainable params: 266,610\n",
      "Non-trainable params: 0\n",
      "_________________________________________________________________\n"
     ]
    }
   ],
   "source": [
    "model.summary()"
   ]
  },
  {
   "cell_type": "code",
   "execution_count": 12,
   "id": "c6585b31",
   "metadata": {},
   "outputs": [
    {
     "data": {
      "text/plain": [
       "[<keras.layers.reshaping.flatten.Flatten at 0x2003eed1e50>,\n",
       " <keras.layers.core.dense.Dense at 0x2003eee7f50>,\n",
       " <keras.layers.core.dense.Dense at 0x2003eefd950>,\n",
       " <keras.layers.core.dense.Dense at 0x2003d28a310>]"
      ]
     },
     "execution_count": 12,
     "metadata": {},
     "output_type": "execute_result"
    }
   ],
   "source": [
    "model.layers"
   ]
  },
  {
   "cell_type": "code",
   "execution_count": 13,
   "id": "d29736a5",
   "metadata": {},
   "outputs": [
    {
     "data": {
      "text/plain": [
       "'dense_3'"
      ]
     },
     "execution_count": 13,
     "metadata": {},
     "output_type": "execute_result"
    }
   ],
   "source": [
    "model.layers[1].name"
   ]
  },
  {
   "cell_type": "code",
   "execution_count": 14,
   "id": "e4c3d094",
   "metadata": {},
   "outputs": [
    {
     "data": {
      "text/plain": [
       "'dense_3'"
      ]
     },
     "execution_count": 14,
     "metadata": {},
     "output_type": "execute_result"
    }
   ],
   "source": [
    "model.get_layer('dense_3').name"
   ]
  },
  {
   "cell_type": "code",
   "execution_count": 15,
   "id": "0193cc2d",
   "metadata": {},
   "outputs": [],
   "source": [
    "weights, biases = model.layers[1].get_weights()"
   ]
  },
  {
   "cell_type": "code",
   "execution_count": 16,
   "id": "fd401718",
   "metadata": {},
   "outputs": [
    {
     "data": {
      "text/plain": [
       "array([[-0.05066869, -0.0127309 ,  0.05593613, ..., -0.05885805,\n",
       "        -0.06815481, -0.03452601],\n",
       "       [ 0.05431604,  0.05268013, -0.03867266, ...,  0.01587793,\n",
       "         0.05570276,  0.02402519],\n",
       "       [-0.01781244, -0.02737653,  0.05895147, ..., -0.03083359,\n",
       "         0.06157775, -0.0076701 ],\n",
       "       ...,\n",
       "       [ 0.06844944,  0.05955207, -0.00478161, ..., -0.04176461,\n",
       "        -0.04544919,  0.02839227],\n",
       "       [-0.04034037, -0.01612671, -0.07339938, ...,  0.0313774 ,\n",
       "         0.00193433,  0.02706942],\n",
       "       [-0.06540915,  0.06541501,  0.04502449, ..., -0.05320507,\n",
       "         0.04821423, -0.0167845 ]], dtype=float32)"
      ]
     },
     "execution_count": 16,
     "metadata": {},
     "output_type": "execute_result"
    }
   ],
   "source": [
    "weights"
   ]
  },
  {
   "cell_type": "code",
   "execution_count": 17,
   "id": "8efac88c",
   "metadata": {},
   "outputs": [
    {
     "data": {
      "text/plain": [
       "(784, 300)"
      ]
     },
     "execution_count": 17,
     "metadata": {},
     "output_type": "execute_result"
    }
   ],
   "source": [
    "weights.shape"
   ]
  },
  {
   "cell_type": "code",
   "execution_count": 18,
   "id": "eda9b72f",
   "metadata": {},
   "outputs": [
    {
     "data": {
      "text/plain": [
       "array([0., 0., 0., 0., 0., 0., 0., 0., 0., 0., 0., 0., 0., 0., 0., 0., 0.,\n",
       "       0., 0., 0., 0., 0., 0., 0., 0., 0., 0., 0., 0., 0., 0., 0., 0., 0.,\n",
       "       0., 0., 0., 0., 0., 0., 0., 0., 0., 0., 0., 0., 0., 0., 0., 0., 0.,\n",
       "       0., 0., 0., 0., 0., 0., 0., 0., 0., 0., 0., 0., 0., 0., 0., 0., 0.,\n",
       "       0., 0., 0., 0., 0., 0., 0., 0., 0., 0., 0., 0., 0., 0., 0., 0., 0.,\n",
       "       0., 0., 0., 0., 0., 0., 0., 0., 0., 0., 0., 0., 0., 0., 0., 0., 0.,\n",
       "       0., 0., 0., 0., 0., 0., 0., 0., 0., 0., 0., 0., 0., 0., 0., 0., 0.,\n",
       "       0., 0., 0., 0., 0., 0., 0., 0., 0., 0., 0., 0., 0., 0., 0., 0., 0.,\n",
       "       0., 0., 0., 0., 0., 0., 0., 0., 0., 0., 0., 0., 0., 0., 0., 0., 0.,\n",
       "       0., 0., 0., 0., 0., 0., 0., 0., 0., 0., 0., 0., 0., 0., 0., 0., 0.,\n",
       "       0., 0., 0., 0., 0., 0., 0., 0., 0., 0., 0., 0., 0., 0., 0., 0., 0.,\n",
       "       0., 0., 0., 0., 0., 0., 0., 0., 0., 0., 0., 0., 0., 0., 0., 0., 0.,\n",
       "       0., 0., 0., 0., 0., 0., 0., 0., 0., 0., 0., 0., 0., 0., 0., 0., 0.,\n",
       "       0., 0., 0., 0., 0., 0., 0., 0., 0., 0., 0., 0., 0., 0., 0., 0., 0.,\n",
       "       0., 0., 0., 0., 0., 0., 0., 0., 0., 0., 0., 0., 0., 0., 0., 0., 0.,\n",
       "       0., 0., 0., 0., 0., 0., 0., 0., 0., 0., 0., 0., 0., 0., 0., 0., 0.,\n",
       "       0., 0., 0., 0., 0., 0., 0., 0., 0., 0., 0., 0., 0., 0., 0., 0., 0.,\n",
       "       0., 0., 0., 0., 0., 0., 0., 0., 0., 0., 0.], dtype=float32)"
      ]
     },
     "execution_count": 18,
     "metadata": {},
     "output_type": "execute_result"
    }
   ],
   "source": [
    "biases"
   ]
  },
  {
   "cell_type": "code",
   "execution_count": 19,
   "id": "2c37aa64",
   "metadata": {},
   "outputs": [
    {
     "data": {
      "text/plain": [
       "(300,)"
      ]
     },
     "execution_count": 19,
     "metadata": {},
     "output_type": "execute_result"
    }
   ],
   "source": [
    "biases.shape"
   ]
  },
  {
   "cell_type": "code",
   "execution_count": 20,
   "id": "6085f0e6",
   "metadata": {},
   "outputs": [],
   "source": [
    "model.compile(loss=\"sparse_categorical_crossentropy\",\n",
    "optimizer=\"sgd\",\n",
    "metrics=[\"accuracy\"])"
   ]
  },
  {
   "cell_type": "code",
   "execution_count": 21,
   "id": "734d38af",
   "metadata": {},
   "outputs": [
    {
     "name": "stdout",
     "output_type": "stream",
     "text": [
      "Epoch 1/30\n",
      "1719/1719 [==============================] - 3s 1ms/step - loss: 0.7312 - accuracy: 0.7590 - val_loss: 0.5288 - val_accuracy: 0.8248\n",
      "Epoch 2/30\n",
      "1719/1719 [==============================] - 2s 1ms/step - loss: 0.4909 - accuracy: 0.8309 - val_loss: 0.4550 - val_accuracy: 0.8440\n",
      "Epoch 3/30\n",
      "1719/1719 [==============================] - 2s 1ms/step - loss: 0.4446 - accuracy: 0.8443 - val_loss: 0.4238 - val_accuracy: 0.8554\n",
      "Epoch 4/30\n",
      "1719/1719 [==============================] - 2s 1ms/step - loss: 0.4165 - accuracy: 0.8537 - val_loss: 0.4109 - val_accuracy: 0.8580\n",
      "Epoch 5/30\n",
      "1719/1719 [==============================] - 2s 1ms/step - loss: 0.3952 - accuracy: 0.8609 - val_loss: 0.3865 - val_accuracy: 0.8670\n",
      "Epoch 6/30\n",
      "1719/1719 [==============================] - 2s 1ms/step - loss: 0.3805 - accuracy: 0.8666 - val_loss: 0.3756 - val_accuracy: 0.8678\n",
      "Epoch 7/30\n",
      "1719/1719 [==============================] - 2s 1ms/step - loss: 0.3668 - accuracy: 0.8696 - val_loss: 0.3654 - val_accuracy: 0.8720\n",
      "Epoch 8/30\n",
      "1719/1719 [==============================] - 2s 1ms/step - loss: 0.3549 - accuracy: 0.8738 - val_loss: 0.3618 - val_accuracy: 0.8722\n",
      "Epoch 9/30\n",
      "1719/1719 [==============================] - 2s 1ms/step - loss: 0.3453 - accuracy: 0.8774 - val_loss: 0.3536 - val_accuracy: 0.8740\n",
      "Epoch 10/30\n",
      "1719/1719 [==============================] - 2s 1ms/step - loss: 0.3358 - accuracy: 0.8792 - val_loss: 0.3387 - val_accuracy: 0.8810\n",
      "Epoch 11/30\n",
      "1719/1719 [==============================] - 2s 1ms/step - loss: 0.3266 - accuracy: 0.8835 - val_loss: 0.3425 - val_accuracy: 0.8800\n",
      "Epoch 12/30\n",
      "1719/1719 [==============================] - 2s 1ms/step - loss: 0.3196 - accuracy: 0.8847 - val_loss: 0.3317 - val_accuracy: 0.8818\n",
      "Epoch 13/30\n",
      "1719/1719 [==============================] - 2s 1ms/step - loss: 0.3122 - accuracy: 0.8875 - val_loss: 0.3529 - val_accuracy: 0.8682\n",
      "Epoch 14/30\n",
      "1719/1719 [==============================] - 2s 1ms/step - loss: 0.3054 - accuracy: 0.8899 - val_loss: 0.3176 - val_accuracy: 0.8890\n",
      "Epoch 15/30\n",
      "1719/1719 [==============================] - 2s 1ms/step - loss: 0.2991 - accuracy: 0.8924 - val_loss: 0.3131 - val_accuracy: 0.8870\n",
      "Epoch 16/30\n",
      "1719/1719 [==============================] - 2s 1ms/step - loss: 0.2926 - accuracy: 0.8944 - val_loss: 0.3221 - val_accuracy: 0.8844\n",
      "Epoch 17/30\n",
      "1719/1719 [==============================] - 2s 1ms/step - loss: 0.2874 - accuracy: 0.8957 - val_loss: 0.3053 - val_accuracy: 0.8920\n",
      "Epoch 18/30\n",
      "1719/1719 [==============================] - 2s 1ms/step - loss: 0.2817 - accuracy: 0.8978 - val_loss: 0.3290 - val_accuracy: 0.8776\n",
      "Epoch 19/30\n",
      "1719/1719 [==============================] - 2s 1ms/step - loss: 0.2765 - accuracy: 0.9007 - val_loss: 0.3117 - val_accuracy: 0.8880\n",
      "Epoch 20/30\n",
      "1719/1719 [==============================] - 2s 1ms/step - loss: 0.2719 - accuracy: 0.9024 - val_loss: 0.3027 - val_accuracy: 0.8900\n",
      "Epoch 21/30\n",
      "1719/1719 [==============================] - 2s 1ms/step - loss: 0.2675 - accuracy: 0.9029 - val_loss: 0.2992 - val_accuracy: 0.8926\n",
      "Epoch 22/30\n",
      "1719/1719 [==============================] - 2s 1ms/step - loss: 0.2617 - accuracy: 0.9067 - val_loss: 0.3154 - val_accuracy: 0.8886\n",
      "Epoch 23/30\n",
      "1719/1719 [==============================] - 2s 1ms/step - loss: 0.2581 - accuracy: 0.9066 - val_loss: 0.2962 - val_accuracy: 0.8964\n",
      "Epoch 24/30\n",
      "1719/1719 [==============================] - 2s 1ms/step - loss: 0.2538 - accuracy: 0.9085 - val_loss: 0.3028 - val_accuracy: 0.8930\n",
      "Epoch 25/30\n",
      "1719/1719 [==============================] - 2s 1ms/step - loss: 0.2492 - accuracy: 0.9098 - val_loss: 0.3301 - val_accuracy: 0.8828\n",
      "Epoch 26/30\n",
      "1719/1719 [==============================] - 2s 1ms/step - loss: 0.2445 - accuracy: 0.9123 - val_loss: 0.2935 - val_accuracy: 0.8922\n",
      "Epoch 27/30\n",
      "1719/1719 [==============================] - 2s 1ms/step - loss: 0.2408 - accuracy: 0.9136 - val_loss: 0.2957 - val_accuracy: 0.8944\n",
      "Epoch 28/30\n",
      "1719/1719 [==============================] - 2s 1ms/step - loss: 0.2372 - accuracy: 0.9149 - val_loss: 0.2916 - val_accuracy: 0.8922\n",
      "Epoch 29/30\n",
      "1719/1719 [==============================] - 2s 1ms/step - loss: 0.2334 - accuracy: 0.9158 - val_loss: 0.3140 - val_accuracy: 0.8864\n",
      "Epoch 30/30\n",
      "1719/1719 [==============================] - 2s 1ms/step - loss: 0.2304 - accuracy: 0.9166 - val_loss: 0.2917 - val_accuracy: 0.8922\n"
     ]
    }
   ],
   "source": [
    "history = model.fit(X_train, y_train, epochs=30, validation_data=(X_valid, y_valid))"
   ]
  },
  {
   "cell_type": "code",
   "execution_count": 24,
   "id": "4ed9b5bd",
   "metadata": {},
   "outputs": [
    {
     "data": {
      "image/png": "[encoded data removed]",
      "text/plain": [
       "<Figure size 800x500 with 1 Axes>"
      ]
     },
     "metadata": {},
     "output_type": "display_data"
    }
   ],
   "source": [
    "pd.DataFrame(history.history).plot(figsize=(8, 5))\n",
    "plt.grid(True)\n",
    "plt.gca().set_ylim(0, 1) # set the vertical range to [0-1]\n",
    "plt.show()"
   ]
  },
  {
   "cell_type": "code",
   "execution_count": 25,
   "id": "276f93be",
   "metadata": {},
   "outputs": [
    {
     "name": "stdout",
     "output_type": "stream",
     "text": [
      "313/313 [==============================] - 0s 816us/step - loss: 55.2352 - accuracy: 0.8586\n"
     ]
    },
    {
     "data": {
      "text/plain": [
       "[55.23521423339844, 0.8586000204086304]"
      ]
     },
     "execution_count": 25,
     "metadata": {},
     "output_type": "execute_result"
    }
   ],
   "source": [
    "model.evaluate(X_test,y_test)"
   ]
  },
  {
   "cell_type": "code",
   "execution_count": 26,
   "id": "bbd35334",
   "metadata": {},
   "outputs": [
    {
     "name": "stdout",
     "output_type": "stream",
     "text": [
      "1/1 [==============================] - 0s 56ms/step\n"
     ]
    },
    {
     "data": {
      "text/plain": [
       "array([[0., 0., 0., 0., 0., 0., 0., 0., 0., 1.],\n",
       "       [0., 0., 1., 0., 0., 0., 0., 0., 0., 0.],\n",
       "       [0., 1., 0., 0., 0., 0., 0., 0., 0., 0.]], dtype=float32)"
      ]
     },
     "execution_count": 26,
     "metadata": {},
     "output_type": "execute_result"
    }
   ],
   "source": [
    "X_new = X_test[:3]\n",
    "y_proba = model.predict(X_new)\n",
    "y_proba.round(2)"
   ]
  },
  {
   "cell_type": "code",
   "execution_count": 27,
   "id": "28409288",
   "metadata": {},
   "outputs": [
    {
     "ename": "AttributeError",
     "evalue": "'Sequential' object has no attribute 'predict_classes'",
     "output_type": "error",
     "traceback": [
      "\u001b[1;31m---------------------------------------------------------------------------\u001b[0m",
      "\u001b[1;31mAttributeError\u001b[0m                            Traceback (most recent call last)",
      "Cell \u001b[1;32mIn[27], line 1\u001b[0m\n\u001b[1;32m----> 1\u001b[0m y_pred \u001b[38;5;241m=\u001b[39m \u001b[43mmodel\u001b[49m\u001b[38;5;241;43m.\u001b[39;49m\u001b[43mpredict_classes\u001b[49m(X_new)\n\u001b[0;32m      2\u001b[0m y_pred\n\u001b[0;32m      3\u001b[0m np\u001b[38;5;241m.\u001b[39marray(class_names)[y_pred]\n",
      "\u001b[1;31mAttributeError\u001b[0m: 'Sequential' object has no attribute 'predict_classes'"
     ]
    }
   ],
   "source": [
    "y_pred = model.predict_classes(X_new)\n",
    "y_pred\n",
    "np.array(class_names)[y_pred]\n",
    "y_new = y_test[:3]\n",
    "y_new"
   ]
  },
  {
   "cell_type": "code",
   "execution_count": null,
   "id": "332d803d",
   "metadata": {},
   "outputs": [],
   "source": [
    "y_test[:3]"
   ]
  }
 ],
 "metadata": {
  "kernelspec": {
   "display_name": "Python 3 (ipykernel)",
   "language": "python",
   "name": "python3"
  },
  "language_info": {
   "codemirror_mode": {
    "name": "ipython",
    "version": 3
   },
   "file_extension": ".py",
   "mimetype": "text/x-python",
   "name": "python",
   "nbconvert_exporter": "python",
   "pygments_lexer": "ipython3",
   "version": "3.11.2"
  }
 },
 "nbformat": 4,
 "nbformat_minor": 5
}
